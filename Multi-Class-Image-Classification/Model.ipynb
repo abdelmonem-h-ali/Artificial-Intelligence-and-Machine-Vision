{
  "nbformat": 4,
  "nbformat_minor": 0,
  "metadata": {
    "colab": {
      "provenance": [],
      "authorship_tag": "ABX9TyNai4EK70srF5aWIjKpFkqp",
      "include_colab_link": true
    },
    "kernelspec": {
      "name": "python3",
      "display_name": "Python 3"
    },
    "language_info": {
      "name": "python"
    }
  },
  "cells": [
    {
      "cell_type": "markdown",
      "metadata": {
        "id": "view-in-github",
        "colab_type": "text"
      },
      "source": [
        "<a href=\"https://colab.research.google.com/github/abdelmonem808/Artificial-Intelligence-and-Machine-Vision/blob/main/Multi-Class-Image-Classification/Model.ipynb\" target=\"_parent\"><img src=\"https://colab.research.google.com/assets/colab-badge.svg\" alt=\"Open In Colab\"/></a>"
      ]
    },
    {
      "cell_type": "code",
      "execution_count": 1,
      "metadata": {
        "id": "zzGGIT64rDO0"
      },
      "outputs": [],
      "source": [
        "import numpy as np \n",
        "import pandas as pd \n",
        "import matplotlib.pyplot as plt\n",
        "import seaborn as sns\n",
        "import tensorflow as tf\n",
        "import os\n",
        "import cv2\n",
        "from tqdm import tqdm\n",
        "from sklearn.utils import shuffle\n",
        "from skimage.io import imread, imshow\n",
        "from tensorflow import keras\n",
        "from keras import layers\n",
        "from keras import models\n",
        "from keras import optimizers\n",
        "from keras.models import load_model\n",
        "from tensorflow.keras.utils import to_categorical\n",
        "import keras.callbacks\n",
        "from keras.callbacks import ModelCheckpoint\n",
        "import random\n",
        "from keras.applications import vgg16\n",
        "from keras.preprocessing import image\n",
        "import warnings\n",
        "warnings.filterwarnings('ignore')\n",
        "os.environ['TF_CPP_MIN_LOG_LEVEL'] = '2'"
      ]
    },
    {
      "cell_type": "code",
      "source": [
        "!mkdir image-classification/\n",
        "!mkdir image-classification/train/\n",
        "!mkdir image-classification/train/train/\n",
        "!mkdir image-classification/test/\n",
        "!mkdir image-classification/test/test/\n",
        "!mkdir image-classification/pred/\n",
        "!mkdir image-classification/pred/pred/"
      ],
      "metadata": {
        "id": "MWrQacgbz_A5"
      },
      "execution_count": 2,
      "outputs": []
    },
    {
      "cell_type": "code",
      "source": [
        "folder_path = \"/content/image-classification/pred/pred\"\n",
        "files = os.listdir(folder_path)"
      ],
      "metadata": {
        "id": "OazyBFz30I6X"
      },
      "execution_count": 4,
      "outputs": []
    }
  ]
}