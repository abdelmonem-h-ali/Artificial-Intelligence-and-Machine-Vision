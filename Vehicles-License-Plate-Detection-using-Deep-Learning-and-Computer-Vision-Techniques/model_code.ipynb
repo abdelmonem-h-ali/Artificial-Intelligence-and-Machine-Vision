{
  "nbformat": 4,
  "nbformat_minor": 0,
  "metadata": {
    "colab": {
      "provenance": [],
      "include_colab_link": true
    },
    "kernelspec": {
      "name": "python3",
      "display_name": "Python 3"
    },
    "language_info": {
      "name": "python"
    }
  },
  "cells": [
    {
      "cell_type": "markdown",
      "metadata": {
        "id": "view-in-github",
        "colab_type": "text"
      },
      "source": [
        "<a href=\"https://colab.research.google.com/github/abdelmonem808/Artificial-Intelligence-and-Machine-Vision/blob/main/Vehicles-License-Plate-Detection-using-Deep-Learning-and-Computer-Vision-Techniques/model_code.ipynb\" target=\"_parent\"><img src=\"https://colab.research.google.com/assets/colab-badge.svg\" alt=\"Open In Colab\"/></a>"
      ]
    },
    {
      "cell_type": "code",
      "execution_count": 1,
      "metadata": {
        "id": "PQ2avM1xVrq3",
        "colab": {
          "base_uri": "https://localhost:8080/"
        },
        "outputId": "adbfbe67-6bba-4013-c9a7-309f12a7a580"
      },
      "outputs": [
        {
          "output_type": "stream",
          "name": "stdout",
          "text": [
            "Looking in indexes: https://pypi.org/simple, https://us-python.pkg.dev/colab-wheels/public/simple/\n",
            "Collecting pytesseract\n",
            "  Downloading pytesseract-0.3.10-py3-none-any.whl (14 kB)\n",
            "Requirement already satisfied: Pillow>=8.0.0 in /usr/local/lib/python3.9/dist-packages (from pytesseract) (8.4.0)\n",
            "Requirement already satisfied: packaging>=21.3 in /usr/local/lib/python3.9/dist-packages (from pytesseract) (23.0)\n",
            "Installing collected packages: pytesseract\n",
            "Successfully installed pytesseract-0.3.10\n"
          ]
        }
      ],
      "source": [
        "!pip install pytesseract\n",
        "\n",
        "import os\n",
        "import cv2\n",
        "import numpy as np\n",
        "import pandas as pd\n",
        "import tensorflow as tf\n",
        "import pytesseract as pt\n",
        "import plotly.express as px\n",
        "import matplotlib.pyplot as plt\n",
        "import xml.etree.ElementTree as xet\n"
      ]
    },
    {
      "cell_type": "code",
      "source": [
        "from glob import glob\n",
        "from skimage import io\n",
        "from shutil import copy\n",
        "from tensorflow.keras.models import Model\n",
        "from tensorflow.keras.callbacks import TensorBoard\n",
        "from sklearn.model_selection import train_test_split\n",
        "from tensorflow.keras.applications import InceptionResNetV2\n",
        "from tensorflow.keras.layers import Dense, Dropout, Flatten, Input\n",
        "from tensorflow.keras.preprocessing.image import load_img, img_to_array"
      ],
      "metadata": {
        "id": "nYM3qpPKaFgn"
      },
      "execution_count": 2,
      "outputs": []
    },
    {
      "cell_type": "code",
      "source": [
        "#!rm -r Vehicles-License-Plate-Detection-using-Deep-Learning-and-Computer-Vision-Techniques"
      ],
      "metadata": {
        "id": "1YKZdlzAclcs"
      },
      "execution_count": 3,
      "outputs": []
    },
    {
      "cell_type": "code",
      "source": [
        "!git clone https://github.com/abdelmonem808/Artificial-Intelligence-and-Machine-Vision\n",
        "path = '/content/plate-dataset'\n",
        "\n",
        "%cd urldata #go to the directory where git clone says *Cloning into*\n",
        "\n",
        "for subdir, dirs, files in os.walk(path):\n",
        "  print(files)"
      ],
      "metadata": {
        "colab": {
          "base_uri": "https://localhost:8080/"
        },
        "id": "KYjKNAycaZJh",
        "outputId": "80a3e8c5-6a22-47d5-c98e-cfdea652285c"
      },
      "execution_count": 12,
      "outputs": [
        {
          "output_type": "stream",
          "name": "stdout",
          "text": [
            "Cloning into 'Artificial-Intelligence-and-Machine-Vision'...\n",
            "remote: Enumerating objects: 128, done.\u001b[K\n",
            "remote: Counting objects: 100% (4/4), done.\u001b[K\n",
            "remote: Compressing objects: 100% (4/4), done.\u001b[K\n",
            "remote: Total 128 (delta 0), reused 0 (delta 0), pack-reused 124\u001b[K\n",
            "Receiving objects: 100% (128/128), 21.93 MiB | 22.23 MiB/s, done.\n",
            "Resolving deltas: 100% (57/57), done.\n",
            "[Errno 2] No such file or directory: 'urldata #go to the directory where git clone says *Cloning into*'\n",
            "/content\n",
            "[]\n"
          ]
        }
      ]
    },
    {
      "cell_type": "code",
      "source": [
        "from google.colab import drive\n",
        "drive.mount('/content')"
      ],
      "metadata": {
        "colab": {
          "base_uri": "https://localhost:8080/",
          "height": 344
        },
        "id": "eqfQBqfahz3g",
        "outputId": "6399da60-f7dc-4df5-defd-0909c3bd1d01"
      },
      "execution_count": 8,
      "outputs": [
        {
          "output_type": "error",
          "ename": "ValueError",
          "evalue": "ignored",
          "traceback": [
            "\u001b[0;31m---------------------------------------------------------------------------\u001b[0m",
            "\u001b[0;31mValueError\u001b[0m                                Traceback (most recent call last)",
            "\u001b[0;32m<ipython-input-8-fcb226d3c5a7>\u001b[0m in \u001b[0;36m<cell line: 2>\u001b[0;34m()\u001b[0m\n\u001b[1;32m      1\u001b[0m \u001b[0;32mfrom\u001b[0m \u001b[0mgoogle\u001b[0m\u001b[0;34m.\u001b[0m\u001b[0mcolab\u001b[0m \u001b[0;32mimport\u001b[0m \u001b[0mdrive\u001b[0m\u001b[0;34m\u001b[0m\u001b[0;34m\u001b[0m\u001b[0m\n\u001b[0;32m----> 2\u001b[0;31m \u001b[0mdrive\u001b[0m\u001b[0;34m.\u001b[0m\u001b[0mmount\u001b[0m\u001b[0;34m(\u001b[0m\u001b[0;34m'/content'\u001b[0m\u001b[0;34m)\u001b[0m\u001b[0;34m\u001b[0m\u001b[0;34m\u001b[0m\u001b[0m\n\u001b[0m",
            "\u001b[0;32m/usr/local/lib/python3.9/dist-packages/google/colab/drive.py\u001b[0m in \u001b[0;36mmount\u001b[0;34m(mountpoint, force_remount, timeout_ms, readonly)\u001b[0m\n\u001b[1;32m    101\u001b[0m \u001b[0;32mdef\u001b[0m \u001b[0mmount\u001b[0m\u001b[0;34m(\u001b[0m\u001b[0mmountpoint\u001b[0m\u001b[0;34m,\u001b[0m \u001b[0mforce_remount\u001b[0m\u001b[0;34m=\u001b[0m\u001b[0;32mFalse\u001b[0m\u001b[0;34m,\u001b[0m \u001b[0mtimeout_ms\u001b[0m\u001b[0;34m=\u001b[0m\u001b[0;36m120000\u001b[0m\u001b[0;34m,\u001b[0m \u001b[0mreadonly\u001b[0m\u001b[0;34m=\u001b[0m\u001b[0;32mFalse\u001b[0m\u001b[0;34m)\u001b[0m\u001b[0;34m:\u001b[0m\u001b[0;34m\u001b[0m\u001b[0;34m\u001b[0m\u001b[0m\n\u001b[1;32m    102\u001b[0m   \u001b[0;34m\"\"\"Mount your Google Drive at the specified mountpoint path.\"\"\"\u001b[0m\u001b[0;34m\u001b[0m\u001b[0;34m\u001b[0m\u001b[0m\n\u001b[0;32m--> 103\u001b[0;31m   return _mount(\n\u001b[0m\u001b[1;32m    104\u001b[0m       \u001b[0mmountpoint\u001b[0m\u001b[0;34m,\u001b[0m\u001b[0;34m\u001b[0m\u001b[0;34m\u001b[0m\u001b[0m\n\u001b[1;32m    105\u001b[0m       \u001b[0mforce_remount\u001b[0m\u001b[0;34m=\u001b[0m\u001b[0mforce_remount\u001b[0m\u001b[0;34m,\u001b[0m\u001b[0;34m\u001b[0m\u001b[0;34m\u001b[0m\u001b[0m\n",
            "\u001b[0;32m/usr/local/lib/python3.9/dist-packages/google/colab/drive.py\u001b[0m in \u001b[0;36m_mount\u001b[0;34m(mountpoint, force_remount, timeout_ms, ephemeral, readonly)\u001b[0m\n\u001b[1;32m    192\u001b[0m       \u001b[0;32mraise\u001b[0m \u001b[0mValueError\u001b[0m\u001b[0;34m(\u001b[0m\u001b[0;34m'Mountpoint must not be a symlink'\u001b[0m\u001b[0;34m)\u001b[0m\u001b[0;34m\u001b[0m\u001b[0;34m\u001b[0m\u001b[0m\n\u001b[1;32m    193\u001b[0m     \u001b[0;32mif\u001b[0m \u001b[0m_os\u001b[0m\u001b[0;34m.\u001b[0m\u001b[0mpath\u001b[0m\u001b[0;34m.\u001b[0m\u001b[0misdir\u001b[0m\u001b[0;34m(\u001b[0m\u001b[0mmountpoint\u001b[0m\u001b[0;34m)\u001b[0m \u001b[0;32mand\u001b[0m \u001b[0m_os\u001b[0m\u001b[0;34m.\u001b[0m\u001b[0mlistdir\u001b[0m\u001b[0;34m(\u001b[0m\u001b[0mmountpoint\u001b[0m\u001b[0;34m)\u001b[0m\u001b[0;34m:\u001b[0m\u001b[0;34m\u001b[0m\u001b[0;34m\u001b[0m\u001b[0m\n\u001b[0;32m--> 194\u001b[0;31m       \u001b[0;32mraise\u001b[0m \u001b[0mValueError\u001b[0m\u001b[0;34m(\u001b[0m\u001b[0;34m'Mountpoint must not already contain files'\u001b[0m\u001b[0;34m)\u001b[0m\u001b[0;34m\u001b[0m\u001b[0;34m\u001b[0m\u001b[0m\n\u001b[0m\u001b[1;32m    195\u001b[0m     \u001b[0;32mif\u001b[0m \u001b[0;32mnot\u001b[0m \u001b[0m_os\u001b[0m\u001b[0;34m.\u001b[0m\u001b[0mpath\u001b[0m\u001b[0;34m.\u001b[0m\u001b[0misdir\u001b[0m\u001b[0;34m(\u001b[0m\u001b[0mmountpoint\u001b[0m\u001b[0;34m)\u001b[0m \u001b[0;32mand\u001b[0m \u001b[0m_os\u001b[0m\u001b[0;34m.\u001b[0m\u001b[0mpath\u001b[0m\u001b[0;34m.\u001b[0m\u001b[0mexists\u001b[0m\u001b[0;34m(\u001b[0m\u001b[0mmountpoint\u001b[0m\u001b[0;34m)\u001b[0m\u001b[0;34m:\u001b[0m\u001b[0;34m\u001b[0m\u001b[0;34m\u001b[0m\u001b[0m\n\u001b[1;32m    196\u001b[0m       \u001b[0;32mraise\u001b[0m \u001b[0mValueError\u001b[0m\u001b[0;34m(\u001b[0m\u001b[0;34m'Mountpoint must either be a directory or not exist'\u001b[0m\u001b[0;34m)\u001b[0m\u001b[0;34m\u001b[0m\u001b[0;34m\u001b[0m\u001b[0m\n",
            "\u001b[0;31mValueError\u001b[0m: Mountpoint must not already contain files"
          ]
        }
      ]
    },
    {
      "cell_type": "code",
      "source": [
        "path = glob('/content/Vehicles-License-Plate-Detection-using-Deep-Learning-and-Computer-Vision-Techniques/images/*.xml')\n",
        "labels_dict = dict(filepath=[],xmin=[],xmax=[],ymin=[],ymax=[])\n",
        "for filename in path:\n",
        "\n",
        "    info = xet.parse(filename)\n",
        "    root = info.getroot()\n",
        "    member_object = root.find('object')\n",
        "    labels_info = member_object.find('bndbox')\n",
        "    xmin = int(labels_info.find('xmin').text)\n",
        "    xmax = int(labels_info.find('xmax').text)\n",
        "    ymin = int(labels_info.find('ymin').text)\n",
        "    ymax = int(labels_info.find('ymax').text)\n",
        "\n",
        "    labels_dict['filepath'].append(filename)\n",
        "    labels_dict['xmin'].append(xmin)\n",
        "    labels_dict['xmax'].append(xmax)\n",
        "    labels_dict['ymin'].append(ymin)\n",
        "    labels_dict['ymax'].append(ymax)"
      ],
      "metadata": {
        "id": "q18XSMeaaovP"
      },
      "execution_count": null,
      "outputs": []
    },
    {
      "cell_type": "code",
      "source": [
        "df = pd.DataFrame(labels_dict)\n",
        "df.to_csv('../labels.csv',index=False)\n",
        "df.head()"
      ],
      "metadata": {
        "colab": {
          "base_uri": "https://localhost:8080/",
          "height": 81
        },
        "id": "WTlF0RZ3bW-q",
        "outputId": "eb5c450e-6c44-4a40-bca0-f5d04cbc2eb3"
      },
      "execution_count": null,
      "outputs": [
        {
          "output_type": "execute_result",
          "data": {
            "text/plain": [
              "                                            filepath  xmin  xmax  ymin  ymax\n",
              "0  /content/Vehicles-License-Plate-Detection-usin...  1093  1396   645   727"
            ],
            "text/html": [
              "\n",
              "  <div id=\"df-342f8251-ce96-44a4-9db8-df7d23a36bee\">\n",
              "    <div class=\"colab-df-container\">\n",
              "      <div>\n",
              "<style scoped>\n",
              "    .dataframe tbody tr th:only-of-type {\n",
              "        vertical-align: middle;\n",
              "    }\n",
              "\n",
              "    .dataframe tbody tr th {\n",
              "        vertical-align: top;\n",
              "    }\n",
              "\n",
              "    .dataframe thead th {\n",
              "        text-align: right;\n",
              "    }\n",
              "</style>\n",
              "<table border=\"1\" class=\"dataframe\">\n",
              "  <thead>\n",
              "    <tr style=\"text-align: right;\">\n",
              "      <th></th>\n",
              "      <th>filepath</th>\n",
              "      <th>xmin</th>\n",
              "      <th>xmax</th>\n",
              "      <th>ymin</th>\n",
              "      <th>ymax</th>\n",
              "    </tr>\n",
              "  </thead>\n",
              "  <tbody>\n",
              "    <tr>\n",
              "      <th>0</th>\n",
              "      <td>/content/Vehicles-License-Plate-Detection-usin...</td>\n",
              "      <td>1093</td>\n",
              "      <td>1396</td>\n",
              "      <td>645</td>\n",
              "      <td>727</td>\n",
              "    </tr>\n",
              "  </tbody>\n",
              "</table>\n",
              "</div>\n",
              "      <button class=\"colab-df-convert\" onclick=\"convertToInteractive('df-342f8251-ce96-44a4-9db8-df7d23a36bee')\"\n",
              "              title=\"Convert this dataframe to an interactive table.\"\n",
              "              style=\"display:none;\">\n",
              "        \n",
              "  <svg xmlns=\"http://www.w3.org/2000/svg\" height=\"24px\"viewBox=\"0 0 24 24\"\n",
              "       width=\"24px\">\n",
              "    <path d=\"M0 0h24v24H0V0z\" fill=\"none\"/>\n",
              "    <path d=\"M18.56 5.44l.94 2.06.94-2.06 2.06-.94-2.06-.94-.94-2.06-.94 2.06-2.06.94zm-11 1L8.5 8.5l.94-2.06 2.06-.94-2.06-.94L8.5 2.5l-.94 2.06-2.06.94zm10 10l.94 2.06.94-2.06 2.06-.94-2.06-.94-.94-2.06-.94 2.06-2.06.94z\"/><path d=\"M17.41 7.96l-1.37-1.37c-.4-.4-.92-.59-1.43-.59-.52 0-1.04.2-1.43.59L10.3 9.45l-7.72 7.72c-.78.78-.78 2.05 0 2.83L4 21.41c.39.39.9.59 1.41.59.51 0 1.02-.2 1.41-.59l7.78-7.78 2.81-2.81c.8-.78.8-2.07 0-2.86zM5.41 20L4 18.59l7.72-7.72 1.47 1.35L5.41 20z\"/>\n",
              "  </svg>\n",
              "      </button>\n",
              "      \n",
              "  <style>\n",
              "    .colab-df-container {\n",
              "      display:flex;\n",
              "      flex-wrap:wrap;\n",
              "      gap: 12px;\n",
              "    }\n",
              "\n",
              "    .colab-df-convert {\n",
              "      background-color: #E8F0FE;\n",
              "      border: none;\n",
              "      border-radius: 50%;\n",
              "      cursor: pointer;\n",
              "      display: none;\n",
              "      fill: #1967D2;\n",
              "      height: 32px;\n",
              "      padding: 0 0 0 0;\n",
              "      width: 32px;\n",
              "    }\n",
              "\n",
              "    .colab-df-convert:hover {\n",
              "      background-color: #E2EBFA;\n",
              "      box-shadow: 0px 1px 2px rgba(60, 64, 67, 0.3), 0px 1px 3px 1px rgba(60, 64, 67, 0.15);\n",
              "      fill: #174EA6;\n",
              "    }\n",
              "\n",
              "    [theme=dark] .colab-df-convert {\n",
              "      background-color: #3B4455;\n",
              "      fill: #D2E3FC;\n",
              "    }\n",
              "\n",
              "    [theme=dark] .colab-df-convert:hover {\n",
              "      background-color: #434B5C;\n",
              "      box-shadow: 0px 1px 3px 1px rgba(0, 0, 0, 0.15);\n",
              "      filter: drop-shadow(0px 1px 2px rgba(0, 0, 0, 0.3));\n",
              "      fill: #FFFFFF;\n",
              "    }\n",
              "  </style>\n",
              "\n",
              "      <script>\n",
              "        const buttonEl =\n",
              "          document.querySelector('#df-342f8251-ce96-44a4-9db8-df7d23a36bee button.colab-df-convert');\n",
              "        buttonEl.style.display =\n",
              "          google.colab.kernel.accessAllowed ? 'block' : 'none';\n",
              "\n",
              "        async function convertToInteractive(key) {\n",
              "          const element = document.querySelector('#df-342f8251-ce96-44a4-9db8-df7d23a36bee');\n",
              "          const dataTable =\n",
              "            await google.colab.kernel.invokeFunction('convertToInteractive',\n",
              "                                                     [key], {});\n",
              "          if (!dataTable) return;\n",
              "\n",
              "          const docLinkHtml = 'Like what you see? Visit the ' +\n",
              "            '<a target=\"_blank\" href=https://colab.research.google.com/notebooks/data_table.ipynb>data table notebook</a>'\n",
              "            + ' to learn more about interactive tables.';\n",
              "          element.innerHTML = '';\n",
              "          dataTable['output_type'] = 'display_data';\n",
              "          await google.colab.output.renderOutput(dataTable, element);\n",
              "          const docLink = document.createElement('div');\n",
              "          docLink.innerHTML = docLinkHtml;\n",
              "          element.appendChild(docLink);\n",
              "        }\n",
              "      </script>\n",
              "    </div>\n",
              "  </div>\n",
              "  "
            ]
          },
          "metadata": {},
          "execution_count": 44
        }
      ]
    },
    {
      "cell_type": "code",
      "source": [
        "filename = df['filepath'][0]\n",
        "def getFilename(filename):\n",
        "    filename_image = xet.parse(filename).getroot().find('filename').text\n",
        "    filepath_image = os.path.join('/content/Vehicles-License-Plate-Detection-using-Deep-Learning-and-Computer-Vision-Techniques/images',filename_image)\n",
        "    return filepath_image\n",
        "getFilename(filename)"
      ],
      "metadata": {
        "colab": {
          "base_uri": "https://localhost:8080/",
          "height": 36
        },
        "id": "2ZMke5J7bZ4z",
        "outputId": "59ce45cb-6caf-4e6b-edab-bb8cae506b60"
      },
      "execution_count": null,
      "outputs": [
        {
          "output_type": "execute_result",
          "data": {
            "text/plain": [
              "'/content/Vehicles-License-Plate-Detection-using-Deep-Learning-and-Computer-Vision-Techniques/images/image1.png'"
            ],
            "application/vnd.google.colaboratory.intrinsic+json": {
              "type": "string"
            }
          },
          "metadata": {},
          "execution_count": 67
        }
      ]
    },
    {
      "cell_type": "code",
      "source": [
        "image_path = list(df['filepath'].apply(getFilename))\n",
        "image_path[0:1]#random check"
      ],
      "metadata": {
        "colab": {
          "base_uri": "https://localhost:8080/"
        },
        "id": "QmZPkpMRbcwr",
        "outputId": "72b1027d-d971-4ad0-e772-976076843a4a"
      },
      "execution_count": null,
      "outputs": [
        {
          "output_type": "execute_result",
          "data": {
            "text/plain": [
              "['/content/Vehicles-License-Plate-Detection-using-Deep-Learning-and-Computer-Vision-Techniques/images/image1.png']"
            ]
          },
          "metadata": {},
          "execution_count": 68
        }
      ]
    },
    {
      "cell_type": "code",
      "source": [
        "file_path = image_path[0] #path of our image1.png\n",
        "img = cv2.imread(file_path) #read the image\n",
        "# xmin-1804/ymin-1734/xmax-2493/ymax-1882 \n",
        "img = io.imread(file_path) #Read the image\n",
        "fig = px.imshow(img)\n",
        "fig.update_layout(width=600, height=500, margin=dict(l=10, r=10, b=10, t=10),xaxis_title='Plate - image1.png with bounding box')\n",
        "fig.add_shape(type='rect',x0=1804, x1=2493, y0=1734, y1=1882, xref='x', yref='y',line_color='cyan')"
      ],
      "metadata": {
        "colab": {
          "base_uri": "https://localhost:8080/",
          "height": 517
        },
        "id": "aC5OrO5Wdr3t",
        "outputId": "674c94e0-613a-40c7-c77f-20e73a5e1f74"
      },
      "execution_count": null,
      "outputs": [
        {
          "output_type": "display_data",
          "data": {
            "text/html": [
              "<html>\n",
              "<head><meta charset=\"utf-8\" /></head>\n",
              "<body>\n",
              "    <div>            <script src=\"https://cdnjs.cloudflare.com/ajax/libs/mathjax/2.7.5/MathJax.js?config=TeX-AMS-MML_SVG\"></script><script type=\"text/javascript\">if (window.MathJax && window.MathJax.Hub && window.MathJax.Hub.Config) {window.MathJax.Hub.Config({SVG: {font: \"STIX-Web\"}});}</script>                <script type=\"text/javascript\">window.PlotlyConfig = {MathJaxConfig: 'local'};</script>\n",
              "        <script src=\"https://cdn.plot.ly/plotly-2.18.2.min.js\"></script>                <div id=\"e693506c-1efe-4a9e-aab4-6d05391b46a9\" class=\"plotly-graph-div\" style=\"height:500px; width:600px;\"></div>            <script type=\"text/javascript\">                                    window.PLOTLYENV=window.PLOTLYENV || {};                                    if (document.getElementById(\"e693506c-1efe-4a9e-aab4-6d05391b46a9\")) {                    Plotly.newPlot(                        \"e693506c-1efe-4a9e-aab4-6d05391b46a9\",                        [{\"name\":\"0\",\"source\":\"data:image/png;base64,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\",\"type\":\"image\",\"xaxis\":\"x\",\"yaxis\":\"y\",\"hovertemplate\":\"x: %{x}<br>y: %{y}<br>color: %{z}<extra></extra>\"}],                        {\"template\":{\"data\":{\"histogram2dcontour\":[{\"type\":\"histogram2dcontour\",\"colorbar\":{\"outlinewidth\":0,\"ticks\":\"\"},\"colorscale\":[[0.0,\"#0d0887\"],[0.1111111111111111,\"#46039f\"],[0.2222222222222222,\"#7201a8\"],[0.3333333333333333,\"#9c179e\"],[0.4444444444444444,\"#bd3786\"],[0.5555555555555556,\"#d8576b\"],[0.6666666666666666,\"#ed7953\"],[0.7777777777777778,\"#fb9f3a\"],[0.8888888888888888,\"#fdca26\"],[1.0,\"#f0f921\"]]}],\"choropleth\":[{\"type\":\"choropleth\",\"colorbar\":{\"outlinewidth\":0,\"ticks\":\"\"}}],\"histogram2d\":[{\"type\":\"histogram2d\",\"colorbar\":{\"outlinewidth\":0,\"ticks\":\"\"},\"colorscale\":[[0.0,\"#0d0887\"],[0.1111111111111111,\"#46039f\"],[0.2222222222222222,\"#7201a8\"],[0.3333333333333333,\"#9c179e\"],[0.4444444444444444,\"#bd3786\"],[0.5555555555555556,\"#d8576b\"],[0.6666666666666666,\"#ed7953\"],[0.7777777777777778,\"#fb9f3a\"],[0.8888888888888888,\"#fdca26\"],[1.0,\"#f0f921\"]]}],\"heatmap\":[{\"type\":\"heatmap\",\"colorbar\":{\"outlinewidth\":0,\"ticks\":\"\"},\"colorscale\":[[0.0,\"#0d0887\"],[0.1111111111111111,\"#46039f\"],[0.2222222222222222,\"#7201a8\"],[0.3333333333333333,\"#9c179e\"],[0.4444444444444444,\"#bd3786\"],[0.5555555555555556,\"#d8576b\"],[0.6666666666666666,\"#ed7953\"],[0.7777777777777778,\"#fb9f3a\"],[0.8888888888888888,\"#fdca26\"],[1.0,\"#f0f921\"]]}],\"heatmapgl\":[{\"type\":\"heatmapgl\",\"colorbar\":{\"outlinewidth\":0,\"ticks\":\"\"},\"colorscale\":[[0.0,\"#0d0887\"],[0.1111111111111111,\"#46039f\"],[0.2222222222222222,\"#7201a8\"],[0.3333333333333333,\"#9c179e\"],[0.4444444444444444,\"#bd3786\"],[0.5555555555555556,\"#d8576b\"],[0.6666666666666666,\"#ed7953\"],[0.7777777777777778,\"#fb9f3a\"],[0.8888888888888888,\"#fdca26\"],[1.0,\"#f0f921\"]]}],\"contourcarpet\":[{\"type\":\"contourcarpet\",\"colorbar\":{\"outlinewidth\":0,\"ticks\":\"\"}}],\"contour\":[{\"type\":\"contour\",\"colorbar\":{\"outlinewidth\":0,\"ticks\":\"\"},\"colorscale\":[[0.0,\"#0d0887\"],[0.1111111111111111,\"#46039f\"],[0.2222222222222222,\"#7201a8\"],[0.3333333333333333,\"#9c179e\"],[0.4444444444444444,\"#bd3786\"],[0.5555555555555556,\"#d8576b\"],[0.6666666666666666,\"#ed7953\"],[0.7777777777777778,\"#fb9f3a\"],[0.8888888888888888,\"#fdca26\"],[1.0,\"#f0f921\"]]}],\"surface\":[{\"type\":\"surface\",\"colorbar\":{\"outlinewidth\":0,\"ticks\":\"\"},\"colorscale\":[[0.0,\"#0d0887\"],[0.1111111111111111,\"#46039f\"],[0.2222222222222222,\"#7201a8\"],[0.3333333333333333,\"#9c179e\"],[0.4444444444444444,\"#bd3786\"],[0.5555555555555556,\"#d8576b\"],[0.6666666666666666,\"#ed7953\"],[0.7777777777777778,\"#fb9f3a\"],[0.8888888888888888,\"#fdca26\"],[1.0,\"#f0f921\"]]}],\"mesh3d\":[{\"type\":\"mesh3d\",\"colorbar\":{\"outlinewidth\":0,\"ticks\":\"\"}}],\"scatter\":[{\"fillpattern\":{\"fillmode\":\"overlay\",\"size\":10,\"solidity\":0.2},\"type\":\"scatter\"}],\"parcoords\":[{\"type\":\"parcoords\",\"line\":{\"colorbar\":{\"outlinewidth\":0,\"ticks\":\"\"}}}],\"scatterpolargl\":[{\"type\":\"scatterpolargl\",\"marker\":{\"colorbar\":{\"outlinewidth\":0,\"ticks\":\"\"}}}],\"bar\":[{\"error_x\":{\"color\":\"#2a3f5f\"},\"error_y\":{\"color\":\"#2a3f5f\"},\"marker\":{\"line\":{\"color\":\"#E5ECF6\",\"width\":0.5},\"pattern\":{\"fillmode\":\"overlay\",\"size\":10,\"solidity\":0.2}},\"type\":\"bar\"}],\"scattergeo\":[{\"type\":\"scattergeo\",\"marker\":{\"colorbar\":{\"outlinewidth\":0,\"ticks\":\"\"}}}],\"scatterpolar\":[{\"type\":\"scatterpolar\",\"marker\":{\"colorbar\":{\"outlinewidth\":0,\"ticks\":\"\"}}}],\"histogram\":[{\"marker\":{\"pattern\":{\"fillmode\":\"overlay\",\"size\":10,\"solidity\":0.2}},\"type\":\"histogram\"}],\"scattergl\":[{\"type\":\"scattergl\",\"marker\":{\"colorbar\":{\"outlinewidth\":0,\"ticks\":\"\"}}}],\"scatter3d\":[{\"type\":\"scatter3d\",\"line\":{\"colorbar\":{\"outlinewidth\":0,\"ticks\":\"\"}},\"marker\":{\"colorbar\":{\"outlinewidth\":0,\"ticks\":\"\"}}}],\"scattermapbox\":[{\"type\":\"scattermapbox\",\"marker\":{\"colorbar\":{\"outlinewidth\":0,\"ticks\":\"\"}}}],\"scatterternary\":[{\"type\":\"scatterternary\",\"marker\":{\"colorbar\":{\"outlinewidth\":0,\"ticks\":\"\"}}}],\"scattercarpet\":[{\"type\":\"scattercarpet\",\"marker\":{\"colorbar\":{\"outlinewidth\":0,\"ticks\":\"\"}}}],\"carpet\":[{\"aaxis\":{\"endlinecolor\":\"#2a3f5f\",\"gridcolor\":\"white\",\"linecolor\":\"white\",\"minorgridcolor\":\"white\",\"startlinecolor\":\"#2a3f5f\"},\"baxis\":{\"endlinecolor\":\"#2a3f5f\",\"gridcolor\":\"white\",\"linecolor\":\"white\",\"minorgridcolor\":\"white\",\"startlinecolor\":\"#2a3f5f\"},\"type\":\"carpet\"}],\"table\":[{\"cells\":{\"fill\":{\"color\":\"#EBF0F8\"},\"line\":{\"color\":\"white\"}},\"header\":{\"fill\":{\"color\":\"#C8D4E3\"},\"line\":{\"color\":\"white\"}},\"type\":\"table\"}],\"barpolar\":[{\"marker\":{\"line\":{\"color\":\"#E5ECF6\",\"width\":0.5},\"pattern\":{\"fillmode\":\"overlay\",\"size\":10,\"solidity\":0.2}},\"type\":\"barpolar\"}],\"pie\":[{\"automargin\":true,\"type\":\"pie\"}]},\"layout\":{\"autotypenumbers\":\"strict\",\"colorway\":[\"#636efa\",\"#EF553B\",\"#00cc96\",\"#ab63fa\",\"#FFA15A\",\"#19d3f3\",\"#FF6692\",\"#B6E880\",\"#FF97FF\",\"#FECB52\"],\"font\":{\"color\":\"#2a3f5f\"},\"hovermode\":\"closest\",\"hoverlabel\":{\"align\":\"left\"},\"paper_bgcolor\":\"white\",\"plot_bgcolor\":\"#E5ECF6\",\"polar\":{\"bgcolor\":\"#E5ECF6\",\"angularaxis\":{\"gridcolor\":\"white\",\"linecolor\":\"white\",\"ticks\":\"\"},\"radialaxis\":{\"gridcolor\":\"white\",\"linecolor\":\"white\",\"ticks\":\"\"}},\"ternary\":{\"bgcolor\":\"#E5ECF6\",\"aaxis\":{\"gridcolor\":\"white\",\"linecolor\":\"white\",\"ticks\":\"\"},\"baxis\":{\"gridcolor\":\"white\",\"linecolor\":\"white\",\"ticks\":\"\"},\"caxis\":{\"gridcolor\":\"white\",\"linecolor\":\"white\",\"ticks\":\"\"}},\"coloraxis\":{\"colorbar\":{\"outlinewidth\":0,\"ticks\":\"\"}},\"colorscale\":{\"sequential\":[[0.0,\"#0d0887\"],[0.1111111111111111,\"#46039f\"],[0.2222222222222222,\"#7201a8\"],[0.3333333333333333,\"#9c179e\"],[0.4444444444444444,\"#bd3786\"],[0.5555555555555556,\"#d8576b\"],[0.6666666666666666,\"#ed7953\"],[0.7777777777777778,\"#fb9f3a\"],[0.8888888888888888,\"#fdca26\"],[1.0,\"#f0f921\"]],\"sequentialminus\":[[0.0,\"#0d0887\"],[0.1111111111111111,\"#46039f\"],[0.2222222222222222,\"#7201a8\"],[0.3333333333333333,\"#9c179e\"],[0.4444444444444444,\"#bd3786\"],[0.5555555555555556,\"#d8576b\"],[0.6666666666666666,\"#ed7953\"],[0.7777777777777778,\"#fb9f3a\"],[0.8888888888888888,\"#fdca26\"],[1.0,\"#f0f921\"]],\"diverging\":[[0,\"#8e0152\"],[0.1,\"#c51b7d\"],[0.2,\"#de77ae\"],[0.3,\"#f1b6da\"],[0.4,\"#fde0ef\"],[0.5,\"#f7f7f7\"],[0.6,\"#e6f5d0\"],[0.7,\"#b8e186\"],[0.8,\"#7fbc41\"],[0.9,\"#4d9221\"],[1,\"#276419\"]]},\"xaxis\":{\"gridcolor\":\"white\",\"linecolor\":\"white\",\"ticks\":\"\",\"title\":{\"standoff\":15},\"zerolinecolor\":\"white\",\"automargin\":true,\"zerolinewidth\":2},\"yaxis\":{\"gridcolor\":\"white\",\"linecolor\":\"white\",\"ticks\":\"\",\"title\":{\"standoff\":15},\"zerolinecolor\":\"white\",\"automargin\":true,\"zerolinewidth\":2},\"scene\":{\"xaxis\":{\"backgroundcolor\":\"#E5ECF6\",\"gridcolor\":\"white\",\"linecolor\":\"white\",\"showbackground\":true,\"ticks\":\"\",\"zerolinecolor\":\"white\",\"gridwidth\":2},\"yaxis\":{\"backgroundcolor\":\"#E5ECF6\",\"gridcolor\":\"white\",\"linecolor\":\"white\",\"showbackground\":true,\"ticks\":\"\",\"zerolinecolor\":\"white\",\"gridwidth\":2},\"zaxis\":{\"backgroundcolor\":\"#E5ECF6\",\"gridcolor\":\"white\",\"linecolor\":\"white\",\"showbackground\":true,\"ticks\":\"\",\"zerolinecolor\":\"white\",\"gridwidth\":2}},\"shapedefaults\":{\"line\":{\"color\":\"#2a3f5f\"}},\"annotationdefaults\":{\"arrowcolor\":\"#2a3f5f\",\"arrowhead\":0,\"arrowwidth\":1},\"geo\":{\"bgcolor\":\"white\",\"landcolor\":\"#E5ECF6\",\"subunitcolor\":\"white\",\"showland\":true,\"showlakes\":true,\"lakecolor\":\"white\"},\"title\":{\"x\":0.05},\"mapbox\":{\"style\":\"light\"}}},\"xaxis\":{\"anchor\":\"y\",\"domain\":[0.0,1.0],\"title\":{\"text\":\"Plate - image1.png with bounding box\"}},\"yaxis\":{\"anchor\":\"x\",\"domain\":[0.0,1.0]},\"margin\":{\"t\":10,\"l\":10,\"r\":10,\"b\":10},\"width\":600,\"height\":500,\"shapes\":[{\"line\":{\"color\":\"cyan\"},\"type\":\"rect\",\"x0\":1804,\"x1\":2493,\"xref\":\"x\",\"y0\":1734,\"y1\":1882,\"yref\":\"y\"}]},                        {\"responsive\": true}                    ).then(function(){\n",
              "                            \n",
              "var gd = document.getElementById('e693506c-1efe-4a9e-aab4-6d05391b46a9');\n",
              "var x = new MutationObserver(function (mutations, observer) {{\n",
              "        var display = window.getComputedStyle(gd).display;\n",
              "        if (!display || display === 'none') {{\n",
              "            console.log([gd, 'removed!']);\n",
              "            Plotly.purge(gd);\n",
              "            observer.disconnect();\n",
              "        }}\n",
              "}});\n",
              "\n",
              "// Listen for the removal of the full notebook cells\n",
              "var notebookContainer = gd.closest('#notebook-container');\n",
              "if (notebookContainer) {{\n",
              "    x.observe(notebookContainer, {childList: true});\n",
              "}}\n",
              "\n",
              "// Listen for the clearing of the current output cell\n",
              "var outputEl = gd.closest('.output');\n",
              "if (outputEl) {{\n",
              "    x.observe(outputEl, {childList: true});\n",
              "}}\n",
              "\n",
              "                        })                };                            </script>        </div>\n",
              "</body>\n",
              "</html>"
            ]
          },
          "metadata": {}
        }
      ]
    },
    {
      "cell_type": "code",
      "source": [
        "#Targeting all our values in array selecting all columns\n",
        "labels = df.iloc[:,1:].values\n",
        "data = []\n",
        "output = []\n",
        "for ind in range(len(image_path)):\n",
        "    image = image_path[ind]\n",
        "    img_arr = cv2.imread(image)\n",
        "    h,w,d = img_arr.shape\n",
        "    # Prepprocesing\n",
        "    load_image = load_img(image,target_size=(224,224))\n",
        "    load_image_arr = img_to_array(load_image)\n",
        "    norm_load_image_arr = load_image_arr/255.0 # Normalization\n",
        "    # Normalization to labels\n",
        "    xmin,xmax,ymin,ymax = labels[ind]\n",
        "    nxmin,nxmax = xmin/w,xmax/w\n",
        "    nymin,nymax = ymin/h,ymax/h\n",
        "    label_norm = (nxmin,nxmax,nymin,nymax) # Normalized output\n",
        "    # Append\n",
        "    data.append(norm_load_image_arr)\n",
        "    output.append(label_norm)"
      ],
      "metadata": {
        "id": "S_I4wV7jfml7"
      },
      "execution_count": null,
      "outputs": []
    },
    {
      "cell_type": "code",
      "source": [
        "# Convert data to array\n",
        "X = np.array(data,dtype=np.float32)\n",
        "y = np.array(output,dtype=np.float32)"
      ],
      "metadata": {
        "id": "Hdq3Pk53dzSc"
      },
      "execution_count": null,
      "outputs": []
    },
    {
      "cell_type": "code",
      "source": [
        "# Split the data into training and testing set using sklearn.\n",
        "x_train,x_test,y_train,y_test = train_test_split(X,y,train_size=0.8,random_state=0)\n",
        "x_train.shape,x_test.shape,y_train.shape,y_test.shape"
      ],
      "metadata": {
        "colab": {
          "base_uri": "https://localhost:8080/",
          "height": 362
        },
        "id": "mBuGXw-PfpI9",
        "outputId": "f0b1c174-6c95-414c-ad10-0569167cdbe0"
      },
      "execution_count": null,
      "outputs": [
        {
          "output_type": "error",
          "ename": "ValueError",
          "evalue": "ignored",
          "traceback": [
            "\u001b[0;31m---------------------------------------------------------------------------\u001b[0m",
            "\u001b[0;31mValueError\u001b[0m                                Traceback (most recent call last)",
            "\u001b[0;32m<ipython-input-73-3b27f0fb7489>\u001b[0m in \u001b[0;36m<cell line: 2>\u001b[0;34m()\u001b[0m\n\u001b[1;32m      1\u001b[0m \u001b[0;31m# Split the data into training and testing set using sklearn.\u001b[0m\u001b[0;34m\u001b[0m\u001b[0;34m\u001b[0m\u001b[0m\n\u001b[0;32m----> 2\u001b[0;31m \u001b[0mx_train\u001b[0m\u001b[0;34m,\u001b[0m\u001b[0mx_test\u001b[0m\u001b[0;34m,\u001b[0m\u001b[0my_train\u001b[0m\u001b[0;34m,\u001b[0m\u001b[0my_test\u001b[0m \u001b[0;34m=\u001b[0m \u001b[0mtrain_test_split\u001b[0m\u001b[0;34m(\u001b[0m\u001b[0mX\u001b[0m\u001b[0;34m,\u001b[0m\u001b[0my\u001b[0m\u001b[0;34m,\u001b[0m\u001b[0mtrain_size\u001b[0m\u001b[0;34m=\u001b[0m\u001b[0;36m0.8\u001b[0m\u001b[0;34m,\u001b[0m\u001b[0mrandom_state\u001b[0m\u001b[0;34m=\u001b[0m\u001b[0;36m0\u001b[0m\u001b[0;34m)\u001b[0m\u001b[0;34m\u001b[0m\u001b[0;34m\u001b[0m\u001b[0m\n\u001b[0m\u001b[1;32m      3\u001b[0m \u001b[0mx_train\u001b[0m\u001b[0;34m.\u001b[0m\u001b[0mshape\u001b[0m\u001b[0;34m,\u001b[0m\u001b[0mx_test\u001b[0m\u001b[0;34m.\u001b[0m\u001b[0mshape\u001b[0m\u001b[0;34m,\u001b[0m\u001b[0my_train\u001b[0m\u001b[0;34m.\u001b[0m\u001b[0mshape\u001b[0m\u001b[0;34m,\u001b[0m\u001b[0my_test\u001b[0m\u001b[0;34m.\u001b[0m\u001b[0mshape\u001b[0m\u001b[0;34m\u001b[0m\u001b[0;34m\u001b[0m\u001b[0m\n",
            "\u001b[0;32m/usr/local/lib/python3.9/dist-packages/sklearn/model_selection/_split.py\u001b[0m in \u001b[0;36mtrain_test_split\u001b[0;34m(test_size, train_size, random_state, shuffle, stratify, *arrays)\u001b[0m\n\u001b[1;32m   2560\u001b[0m \u001b[0;34m\u001b[0m\u001b[0m\n\u001b[1;32m   2561\u001b[0m     \u001b[0mn_samples\u001b[0m \u001b[0;34m=\u001b[0m \u001b[0m_num_samples\u001b[0m\u001b[0;34m(\u001b[0m\u001b[0marrays\u001b[0m\u001b[0;34m[\u001b[0m\u001b[0;36m0\u001b[0m\u001b[0;34m]\u001b[0m\u001b[0;34m)\u001b[0m\u001b[0;34m\u001b[0m\u001b[0;34m\u001b[0m\u001b[0m\n\u001b[0;32m-> 2562\u001b[0;31m     n_train, n_test = _validate_shuffle_split(\n\u001b[0m\u001b[1;32m   2563\u001b[0m         \u001b[0mn_samples\u001b[0m\u001b[0;34m,\u001b[0m \u001b[0mtest_size\u001b[0m\u001b[0;34m,\u001b[0m \u001b[0mtrain_size\u001b[0m\u001b[0;34m,\u001b[0m \u001b[0mdefault_test_size\u001b[0m\u001b[0;34m=\u001b[0m\u001b[0;36m0.25\u001b[0m\u001b[0;34m\u001b[0m\u001b[0;34m\u001b[0m\u001b[0m\n\u001b[1;32m   2564\u001b[0m     )\n",
            "\u001b[0;32m/usr/local/lib/python3.9/dist-packages/sklearn/model_selection/_split.py\u001b[0m in \u001b[0;36m_validate_shuffle_split\u001b[0;34m(n_samples, test_size, train_size, default_test_size)\u001b[0m\n\u001b[1;32m   2234\u001b[0m \u001b[0;34m\u001b[0m\u001b[0m\n\u001b[1;32m   2235\u001b[0m     \u001b[0;32mif\u001b[0m \u001b[0mn_train\u001b[0m \u001b[0;34m==\u001b[0m \u001b[0;36m0\u001b[0m\u001b[0;34m:\u001b[0m\u001b[0;34m\u001b[0m\u001b[0;34m\u001b[0m\u001b[0m\n\u001b[0;32m-> 2236\u001b[0;31m         raise ValueError(\n\u001b[0m\u001b[1;32m   2237\u001b[0m             \u001b[0;34m\"With n_samples={}, test_size={} and train_size={}, the \"\u001b[0m\u001b[0;34m\u001b[0m\u001b[0;34m\u001b[0m\u001b[0m\n\u001b[1;32m   2238\u001b[0m             \u001b[0;34m\"resulting train set will be empty. Adjust any of the \"\u001b[0m\u001b[0;34m\u001b[0m\u001b[0;34m\u001b[0m\u001b[0m\n",
            "\u001b[0;31mValueError\u001b[0m: With n_samples=1, test_size=None and train_size=0.8, the resulting train set will be empty. Adjust any of the aforementioned parameters."
          ]
        }
      ]
    },
    {
      "cell_type": "code",
      "source": [],
      "metadata": {
        "id": "jN0B3IuafrbN"
      },
      "execution_count": null,
      "outputs": []
    }
  ]
}